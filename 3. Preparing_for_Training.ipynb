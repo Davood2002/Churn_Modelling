{
 "cells": [
  {
   "cell_type": "code",
   "execution_count": 34,
   "metadata": {},
   "outputs": [],
   "source": [
    "import pandas as pd\n",
    "df = pd.read_csv('B. Cleaned_Data.csv' , index_col=0)"
   ]
  },
  {
   "cell_type": "markdown",
   "metadata": {},
   "source": [
    "## \\<HasCard\\>, \\<Exited\\> <br>\\<IsActiveMember\\>"
   ]
  },
  {
   "cell_type": "code",
   "execution_count": 35,
   "metadata": {},
   "outputs": [],
   "source": [
    "for column in [\"HasCrCard\" , \"Exited\" , \"IsActiveMember\"]:\n",
    "    df[column] = df[column].astype(\"bool\")"
   ]
  },
  {
   "cell_type": "markdown",
   "metadata": {},
   "source": [
    "## Binning \\<Age\\>"
   ]
  },
  {
   "cell_type": "code",
   "execution_count": 36,
   "metadata": {},
   "outputs": [],
   "source": [
    "from numpy import inf\n",
    "Bins = [10*i for i in range(0,7)] + [inf]\n",
    "Labels = [\"G-\"+str(i) for i in range(7)]\n",
    "df[\"Age\"] = pd.cut(df[\"Age\"] , bins = Bins , labels = Labels)\n",
    "del inf"
   ]
  },
  {
   "cell_type": "markdown",
   "metadata": {},
   "source": [
    "## Binning \\<CreditScore\\>"
   ]
  },
  {
   "cell_type": "code",
   "execution_count": 37,
   "metadata": {},
   "outputs": [],
   "source": [
    "Labels = [\"G-\"+str(i) for i in range(6)]\n",
    "df[\"CreditScore\"] = pd.qcut(df[\"CreditScore\"] , q=6 , labels=Labels)"
   ]
  },
  {
   "cell_type": "markdown",
   "metadata": {},
   "source": [
    "## Binning \\<Balance\\>"
   ]
  },
  {
   "cell_type": "code",
   "execution_count": 38,
   "metadata": {},
   "outputs": [],
   "source": [
    "d = df.loc[df[\"Balance\"] != 0 , \"Balance\"]\n",
    "Labels = [\"G-\" + str(i) for i in range(1,5)]\n",
    "d = pd.qcut(d , q=4 , labels=Labels)\n",
    "\n",
    "for i in range(1 , 10001):\n",
    "    if i not in d.index.values:\n",
    "       d.loc[i] = \"G-0\"\n",
    "       \n",
    "d.sort_index(inplace=True)\n",
    "df[\"Balance\"] = d"
   ]
  },
  {
   "cell_type": "markdown",
   "metadata": {},
   "source": [
    "## Binning \\<EstimatedSalary\\>"
   ]
  },
  {
   "cell_type": "code",
   "execution_count": 39,
   "metadata": {},
   "outputs": [],
   "source": [
    "Labels = [\"G-\"+str(i) for i in range(10)]\n",
    "df[\"EstimatedSalary\"] = pd.qcut(df[\"EstimatedSalary\"] , q=10 , labels=Labels)"
   ]
  },
  {
   "cell_type": "markdown",
   "metadata": {},
   "source": [
    "## \\<Tenure\\>"
   ]
  },
  {
   "cell_type": "code",
   "execution_count": 40,
   "metadata": {},
   "outputs": [],
   "source": [
    "conversion_dict = {\n",
    "    1:\"one\" , 2:\"two\", 3:\"three\",\n",
    "    4:\"four\" , 5:\"five\" , 6:\"six\",\n",
    "    7:\"seven\" , 8:\"eight\" , 9:\"nine\",\n",
    "    10:\"ten\"}\n",
    "df[\"Tenure\"] = df[\"Tenure\"].replace(conversion_dict)\n"
   ]
  },
  {
   "cell_type": "code",
   "execution_count": 41,
   "metadata": {},
   "outputs": [],
   "source": [
    "df = pd.get_dummies(df , prefix_sep=\": \" , dtype=bool)"
   ]
  },
  {
   "cell_type": "code",
   "execution_count": 42,
   "metadata": {},
   "outputs": [
    {
     "name": "stdout",
     "output_type": "stream",
     "text": [
      "All dtypes are bool,\n",
      "we're good to go!\n"
     ]
    }
   ],
   "source": [
    "if (df.dtypes == \"bool\").all() == True:\n",
    "    print(\"All dtypes are bool,\\nwe're good to go!\")\n",
    "else:\n",
    "    print(\"There are some dtypes that are not bool yet.\")\n"
   ]
  },
  {
   "cell_type": "markdown",
   "metadata": {},
   "source": [
    "## Seperate Validation Data"
   ]
  },
  {
   "cell_type": "code",
   "execution_count": 43,
   "metadata": {},
   "outputs": [],
   "source": [
    "from numpy.random import choice\n",
    "validation_index = choice(range(1,10_001) , size=2_000 , replace=False)\n",
    "Train_Test_Data = df.loc[~df.index.isin(validation_index)].sort_index()\n",
    "Validation_Data = df.loc[df.index.isin(validation_index)].sort_index()\n",
    "del choice"
   ]
  },
  {
   "cell_type": "code",
   "execution_count": 44,
   "metadata": {},
   "outputs": [],
   "source": [
    "Train_Test_Data.to_csv(\"C. Train_Test_Data.csv\")\n",
    "Validation_Data.to_csv(\"D. Validation_Data.csv\")"
   ]
  }
 ],
 "metadata": {
  "kernelspec": {
   "display_name": "ML-Mak-venv",
   "language": "python",
   "name": "python3"
  },
  "language_info": {
   "codemirror_mode": {
    "name": "ipython",
    "version": 3
   },
   "file_extension": ".py",
   "mimetype": "text/x-python",
   "name": "python",
   "nbconvert_exporter": "python",
   "pygments_lexer": "ipython3",
   "version": "3.12.2"
  }
 },
 "nbformat": 4,
 "nbformat_minor": 2
}
